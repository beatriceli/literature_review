{
 "cells": [
  {
   "cell_type": "code",
   "execution_count": 1,
   "metadata": {},
   "outputs": [],
   "source": [
    "import pandas as pd\n",
    "import numpy as np\n",
    "import os"
   ]
  },
  {
   "cell_type": "code",
   "execution_count": 2,
   "metadata": {},
   "outputs": [
    {
     "name": "stdout",
     "output_type": "stream",
     "text": [
      "(953, 15)\n",
      "(953, 14)\n",
      "(953, 14)\n",
      "(953, 33)\n",
      "Index(['exclude_bli', 'Title', 'Authors', 'Publication Type', 'SourceTitle',\n",
      "       'Publication Year', 'Keywords_x', 'UT_x', 'DOI', 'ISSN_x', 'source_x',\n",
      "       'Abstract_x', 'PMID_x', 'URL_x', 'Publication Type Other_x',\n",
      "       'exclude_reza', 'Keywords_y', 'UT_y', 'ISSN_y', 'source_y',\n",
      "       'Abstract_y', 'PMID_y', 'URL_y', 'Publication Type Other_y',\n",
      "       'exclude_farzin', 'Keywords', 'UT', 'ISSN', 'source', 'Abstract',\n",
      "       'PMID', 'URL', 'Publication Type Other'],\n",
      "      dtype='object')\n"
     ]
    }
   ],
   "source": [
    "# read in bli_wb2_set.csv, reza_wb2_set.csv, and farzin_wb2_set.csv from literature\n",
    "bli = pd.read_csv('literature/bli_wb2_set.csv')\n",
    "reza = pd.read_csv('literature/reza_wb2_set.csv')\n",
    "farzin = pd.read_csv('literature/farzin_wb2_set.csv')\n",
    "\n",
    "# bli and reza use 'T', farzin uses '1' for true\n",
    "# replace with boolean\n",
    "bli['exclude'] = bli['exclude'].replace({'T': True, 'F': False})\n",
    "reza['exclude'] = reza['exclude'].replace({'T': True, 'F': False})\n",
    "farzin['exclude'] = farzin['exclude'].replace({1: True, 0: False})\n",
    "\n",
    "# rename to exclude_bli, exclude_reza, exclude_farzin\n",
    "bli = bli.rename(columns={'exclude': 'exclude_bli'})\n",
    "reza = reza.rename(columns={'exclude': 'exclude_reza'})\n",
    "farzin = farzin.rename(columns={'exclude': 'exclude_farzin'})\n",
    "\n",
    "# Title in farzin's includes weird symbols, drop it\n",
    "farzin = farzin.drop(columns=['Title'])\n",
    "reza = reza.drop(columns=['Title'])\n",
    "# merge on 'Authors', 'Publication Type', 'SourceTitle', 'Publication Year' and 'DOI'\n",
    "merged = bli.merge(reza, on=['Authors', 'Publication Type', 'SourceTitle', 'Publication Year', 'DOI']).merge(farzin, on=['Authors', 'Publication Type', 'SourceTitle', 'Publication Year', 'DOI'])\n",
    "\n",
    "\n",
    "# print shape of each dataframe\n",
    "print(bli.shape)\n",
    "print(reza.shape)\n",
    "print(farzin.shape)\n",
    "\n",
    "print(merged.shape)\n",
    "print(merged.columns)"
   ]
  },
  {
   "cell_type": "code",
   "execution_count": 3,
   "metadata": {},
   "outputs": [
    {
     "name": "stderr",
     "output_type": "stream",
     "text": [
      "/var/folders/w9/kdq4wyw97jn4cg1bhrvrq8j80000gn/T/ipykernel_12850/3923723225.py:8: FutureWarning: Downcasting object dtype arrays on .fillna, .ffill, .bfill is deprecated and will change in a future version. Call result.infer_objects(copy=False) instead. To opt-in to the future behavior, set `pd.set_option('future.no_silent_downcasting', True)`\n",
      "  merged[exclude_columns] = merged[exclude_columns].fillna(False)\n"
     ]
    },
    {
     "data": {
      "text/plain": [
       "Index(['Title', 'Authors', 'Publication Type', 'SourceTitle',\n",
       "       'Publication Year', 'DOI', 'Keywords', 'UT', 'ISSN', 'source',\n",
       "       'Abstract', 'PMID', 'URL', 'Publication Type Other', 'exclude_bli',\n",
       "       'exclude_reza', 'exclude_farzin'],\n",
       "      dtype='object')"
      ]
     },
     "execution_count": 3,
     "metadata": {},
     "output_type": "execute_result"
    }
   ],
   "source": [
    "# drop columns that end in _y and _x\n",
    "merged = merged.drop(columns=[c for c in merged.columns if c.endswith('_x')])\n",
    "merged = merged.drop(columns=[c for c in merged.columns if c.endswith('_y')])\n",
    "# move exclude_ columns to the end\n",
    "exclude_columns = [c for c in merged.columns if c.startswith('exclude')]\n",
    "merged = merged[[c for c in merged.columns if c not in exclude_columns] + exclude_columns]\n",
    "# fill NaN with False for exclude columns\n",
    "merged[exclude_columns] = merged[exclude_columns].fillna(False)\n",
    "merged.columns"
   ]
  },
  {
   "cell_type": "code",
   "execution_count": 4,
   "metadata": {},
   "outputs": [
    {
     "name": "stdout",
     "output_type": "stream",
     "text": [
      "bli: 740\n",
      "reza: 175\n",
      "farzin: 277\n"
     ]
    }
   ],
   "source": [
    "# how many are excluded by each source\n",
    "print(f'bli: {merged[merged[\"exclude_bli\"]].shape[0]}')\n",
    "print(f'reza: {merged[merged[\"exclude_reza\"]].shape[0]}')\n",
    "print(f'farzin: {merged[merged[\"exclude_farzin\"]].shape[0]}')"
   ]
  },
  {
   "cell_type": "code",
   "execution_count": 5,
   "metadata": {},
   "outputs": [
    {
     "name": "stdout",
     "output_type": "stream",
     "text": [
      "by_all\n",
      "False    866\n",
      "True      87\n",
      "Name: count, dtype: int64\n",
      "Size: (866, 20), By bli and reza: by_bli_reza\n",
      "False    791\n",
      "True      75\n",
      "Name: count, dtype: int64\n",
      "Size: (791, 19), By bli and farzin: by_bli_farzin\n",
      "False    623\n",
      "True     168\n",
      "Name: count, dtype: int64\n",
      "Size: (623, 18), By reza and farzin: by_reza_farzin\n",
      "False    619\n",
      "True       4\n",
      "Name: count, dtype: int64\n",
      "(619, 17)\n"
     ]
    }
   ],
   "source": [
    "# how many rows are excluded by all three?\n",
    "# print(merged[(merged['exclude_bli'] == True) & (merged['exclude_reza'] == True) & (merged['exclude_farzin'] == True)].shape)\n",
    "\n",
    "# create new column 'by_all' that is True if all exclude columns are True\n",
    "merged['by_all'] = merged[exclude_columns].all(axis=1)\n",
    "# rows excluded by both bli and reza\n",
    "merged['by_bli_reza'] = (merged['exclude_bli'] == True) & (merged['exclude_reza'] == True)\n",
    "# rows excluded by both bli and farzin\n",
    "merged['by_bli_farzin'] = (merged['exclude_bli'] == True) & (merged['exclude_farzin'] == True)\n",
    "# rows excluded by both reza and farzin\n",
    "merged['by_reza_farzin'] = (merged['exclude_reza'] == True) & (merged['exclude_farzin'] == True)\n",
    "\n",
    "# print counts\n",
    "print(merged['by_all'].value_counts())\n",
    "# drop rows excluded by all three\n",
    "merged = merged[merged['by_all'] == False]\n",
    "# drop columns\n",
    "merged = merged.drop(columns=['by_all'])\n",
    "\n",
    "print(f'Size: {merged.shape}, By bli and reza: {merged[\"by_bli_reza\"].value_counts()}')\n",
    "merged = merged[merged['by_bli_reza'] == False]\n",
    "merged = merged.drop(columns=['by_bli_reza'])\n",
    "\n",
    "print(f'Size: {merged.shape}, By bli and farzin: {merged[\"by_bli_farzin\"].value_counts()}')\n",
    "merged = merged[merged['by_bli_farzin'] == False]\n",
    "merged = merged.drop(columns=['by_bli_farzin'])\n",
    "\n",
    "print(f'Size: {merged.shape}, By reza and farzin: {merged[\"by_reza_farzin\"].value_counts()}')\n",
    "merged = merged[merged['by_reza_farzin'] == False]\n",
    "merged = merged.drop(columns=['by_reza_farzin'])\n",
    "\n",
    "print(merged.shape)"
   ]
  },
  {
   "cell_type": "code",
   "execution_count": 6,
   "metadata": {},
   "outputs": [
    {
     "name": "stdout",
     "output_type": "stream",
     "text": [
      "bli: 410\n",
      "reza: 9\n",
      "farzin: 18\n"
     ]
    }
   ],
   "source": [
    "# how many are excluded by each source\n",
    "print(f'bli: {merged[merged[\"exclude_bli\"]].shape[0]}')\n",
    "print(f'reza: {merged[merged[\"exclude_reza\"]].shape[0]}')\n",
    "print(f'farzin: {merged[merged[\"exclude_farzin\"]].shape[0]}')"
   ]
  },
  {
   "cell_type": "code",
   "execution_count": 7,
   "metadata": {},
   "outputs": [],
   "source": [
    "# to csv\n",
    "merged.to_csv('literature/merged1.csv', index=False)"
   ]
  },
  {
   "cell_type": "code",
   "execution_count": null,
   "metadata": {},
   "outputs": [],
   "source": []
  }
 ],
 "metadata": {
  "kernelspec": {
   "display_name": "surveys",
   "language": "python",
   "name": "python3"
  },
  "language_info": {
   "codemirror_mode": {
    "name": "ipython",
    "version": 3
   },
   "file_extension": ".py",
   "mimetype": "text/x-python",
   "name": "python",
   "nbconvert_exporter": "python",
   "pygments_lexer": "ipython3",
   "version": "3.11.0"
  }
 },
 "nbformat": 4,
 "nbformat_minor": 2
}
