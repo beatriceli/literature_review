{
 "cells": [
  {
   "cell_type": "code",
   "execution_count": 5,
   "metadata": {},
   "outputs": [],
   "source": [
    "import pandas as pd\n",
    "import os\n",
    "import glob\n",
    "from pybtex.database.input import bibtex\n",
    "#import pybtex.errors\n",
    "\n",
    "#pybtex.errors.set_strict_mode(False)\n"
   ]
  },
  {
   "cell_type": "code",
   "execution_count": 6,
   "metadata": {},
   "outputs": [],
   "source": [
    "source_path=r'C:\\Users\\Navreet\\Desktop\\AcmDigitalLibrary'\n",
    "all_files=glob.glob(source_path+\"/*.bib\")\n",
    "column_names=[\"Title\",\"Year\"]\n",
    "df_acm=pd.DataFrame(columns=column_names)\n",
    "for filename in all_files:\n",
    "    #print(filename)\n",
    "    #open a bibtex file\n",
    "    parser = bibtex.Parser()\n",
    "    bibdata = parser.parse_file(filename)\n",
    "    #loop through the individual references\n",
    "    for bib_id in bibdata.entries:\n",
    "        b = bibdata.entries[bib_id].fields\n",
    "        try:\n",
    "            # change these lines to create a SQL insert\n",
    "            df_acm=df_acm.append({\"Title\":b['title'],\"Year\":b['year']},\n",
    "                                               ignore_index=True)\n",
    "        # field may not exist for a reference\n",
    "        except(KeyError):\n",
    "            continue"
   ]
  },
  {
   "cell_type": "code",
   "execution_count": 7,
   "metadata": {},
   "outputs": [
    {
     "data": {
      "text/plain": [
       "(1957, 2)"
      ]
     },
     "execution_count": 7,
     "metadata": {},
     "output_type": "execute_result"
    }
   ],
   "source": [
    "df_acm.shape"
   ]
  },
  {
   "cell_type": "code",
   "execution_count": null,
   "metadata": {},
   "outputs": [],
   "source": [
    "df_acm.duplicated(subset = ['Title', 'Year']).sum()"
   ]
  },
  {
   "cell_type": "code",
   "execution_count": null,
   "metadata": {},
   "outputs": [],
   "source": [
    "df_acm = df_acm.drop_duplicates(subset = ['Title', 'Year'],keep = 'first').reset_index(drop = True)"
   ]
  },
  {
   "cell_type": "code",
   "execution_count": 8,
   "metadata": {},
   "outputs": [],
   "source": [
    "df_webofscience=pd.read_csv('C:/Users/Navreet/Desktop/webOfScience.csv')"
   ]
  },
  {
   "cell_type": "code",
   "execution_count": 9,
   "metadata": {},
   "outputs": [
    {
     "data": {
      "text/plain": [
       "(2481, 68)"
      ]
     },
     "execution_count": 9,
     "metadata": {},
     "output_type": "execute_result"
    }
   ],
   "source": [
    "df_webofscience.shape"
   ]
  },
  {
   "cell_type": "code",
   "execution_count": null,
   "metadata": {},
   "outputs": [],
   "source": [
    "df_webofscience.duplicated().sum()\n",
    "\n",
    "#zz=df_webofscience.loc[df_webofscience.duplicated(subset=['Article Title']), :]\n",
    "# Some articles had same names but venues were different, so didn't exclude"
   ]
  },
  {
   "cell_type": "code",
   "execution_count": null,
   "metadata": {},
   "outputs": [],
   "source": [
    "df_webofscience=df_webofscience[['Article Title','Publication Year']]\n",
    "df_webofscience=df_webofscience.rename(columns={\"Article Title\": \"Title\", \"Publication Year\": \"Year\"}, errors=\"raise\")"
   ]
  },
  {
   "cell_type": "code",
   "execution_count": 10,
   "metadata": {},
   "outputs": [
    {
     "data": {
      "text/plain": [
       "(1511, 11)"
      ]
     },
     "execution_count": 10,
     "metadata": {},
     "output_type": "execute_result"
    }
   ],
   "source": [
    "df_pubmed=pd.read_csv('C:/Users/Navreet/Desktop/pubMED.csv')\n",
    "df_pubmed.shape"
   ]
  },
  {
   "cell_type": "code",
   "execution_count": null,
   "metadata": {},
   "outputs": [],
   "source": [
    "df_pubmed.duplicated().sum()\n"
   ]
  },
  {
   "cell_type": "code",
   "execution_count": null,
   "metadata": {},
   "outputs": [],
   "source": [
    "df_pubmed=df_pubmed[['Title','Publication Year']]\n",
    "df_pubmed=df_pubmed.rename(columns={\"Publication Year\": \"Year\"}, errors=\"raise\")"
   ]
  },
  {
   "cell_type": "code",
   "execution_count": null,
   "metadata": {},
   "outputs": [],
   "source": [
    "df_acm=df_acm.append(df_webofscience, ignore_index=True)\n",
    "df_acm=df_acm.append(df_pubmed, ignore_index=True)"
   ]
  },
  {
   "cell_type": "code",
   "execution_count": null,
   "metadata": {},
   "outputs": [],
   "source": [
    "df_acm = df_acm.drop_duplicates(subset = ['Title', 'Year'],keep = 'first').reset_index(drop = True)"
   ]
  },
  {
   "cell_type": "code",
   "execution_count": null,
   "metadata": {},
   "outputs": [],
   "source": [
    "df_acm"
   ]
  },
  {
   "cell_type": "code",
   "execution_count": null,
   "metadata": {},
   "outputs": [],
   "source": []
  },
  {
   "cell_type": "code",
   "execution_count": null,
   "metadata": {},
   "outputs": [],
   "source": [
    "df_acm.to_csv(r'C:\\Users\\Navreet\\Desktop\\final_paperset.csv', index=False)"
   ]
  },
  {
   "cell_type": "code",
   "execution_count": null,
   "metadata": {},
   "outputs": [],
   "source": [
    "disjoint_df = raw_second_set_df[~raw_second_set_df['Article Title'].isin(raw_first_set_df['Article Title'])]\n",
    "print(len(disjoint_df))\n",
    "disjoint_df.to_excel('210611_well-being_disjointed_set.xlsx')"
   ]
  },
  {
   "cell_type": "code",
   "execution_count": null,
   "metadata": {},
   "outputs": [],
   "source": [
    "df_webofscience.columns\n",
    "#'Authors','Article Title' 'Publisher' 'Publication Year'"
   ]
  },
  {
   "cell_type": "code",
   "execution_count": null,
   "metadata": {},
   "outputs": [],
   "source": [
    "df_webofscience['Publisher']"
   ]
  },
  {
   "cell_type": "code",
   "execution_count": null,
   "metadata": {},
   "outputs": [],
   "source": [
    "df_pubmed.columns"
   ]
  },
  {
   "cell_type": "code",
   "execution_count": null,
   "metadata": {},
   "outputs": [],
   "source": [
    "title, authors, journal/book, year"
   ]
  },
  {
   "cell_type": "code",
   "execution_count": null,
   "metadata": {},
   "outputs": [],
   "source": [
    "df_pubmed.head()"
   ]
  },
  {
   "cell_type": "code",
   "execution_count": null,
   "metadata": {},
   "outputs": [],
   "source": []
  }
 ],
 "metadata": {
  "kernelspec": {
   "display_name": "Python 3 (ipykernel)",
   "language": "python",
   "name": "python3"
  },
  "language_info": {
   "codemirror_mode": {
    "name": "ipython",
    "version": 3
   },
   "file_extension": ".py",
   "mimetype": "text/x-python",
   "name": "python",
   "nbconvert_exporter": "python",
   "pygments_lexer": "ipython3",
   "version": "3.9.7"
  }
 },
 "nbformat": 4,
 "nbformat_minor": 4
}
