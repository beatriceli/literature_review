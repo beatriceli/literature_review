{
 "cells": [
  {
   "cell_type": "code",
   "execution_count": 8,
   "metadata": {},
   "outputs": [],
   "source": [
    "import os\n",
    "import pandas as pd"
   ]
  },
  {
   "cell_type": "code",
   "execution_count": 10,
   "metadata": {},
   "outputs": [
    {
     "data": {
      "text/plain": [
       "['lit_wos_20210701_20240531.csv',\n",
       " 'lit_acm.csv',\n",
       " 'lit_pubmed_2021-07-01_2024-05-31.csv']"
      ]
     },
     "execution_count": 10,
     "metadata": {},
     "output_type": "execute_result"
    }
   ],
   "source": [
    "# read in files in literature folder\n",
    "literature_files = os.listdir('literature')\n",
    "# keep only csv files and those that start with 'lit_'\n",
    "literature_files = [file for file in literature_files if file.endswith('.csv') and file.startswith('lit_')]\n",
    "\n",
    "# ask for user input to select csv files to read\n",
    "# print('Select csv files to read')\n",
    "# for i, file in enumerate(literature_files):\n",
    "#     print(f'{i}: {file}')\n",
    "# selected_files = input('Enter the number of the files separated by commas: ')\n",
    "# selected_files = selected_files.split(',')\n",
    "# selected_files = [int(i) for i in selected_files]\n",
    "\n",
    "# read in selected files, have a new column that indicates the source of the data\n",
    "literature_files"
   ]
  },
  {
   "cell_type": "code",
   "execution_count": 7,
   "metadata": {},
   "outputs": [
    {
     "name": "stdout",
     "output_type": "stream",
     "text": [
      "['wos', 'pubmed', 'acm.csv', 'pubmed']\n"
     ]
    }
   ],
   "source": [
    "# Extract the word after the second underscore\n",
    "extracted_words = [name.split('_')[1] if len(name.split('_')) > 1 else None for name in literature_files]\n",
    "\n",
    "print(extracted_words)"
   ]
  },
  {
   "cell_type": "code",
   "execution_count": null,
   "metadata": {},
   "outputs": [],
   "source": []
  }
 ],
 "metadata": {
  "kernelspec": {
   "display_name": "scraper",
   "language": "python",
   "name": "python3"
  },
  "language_info": {
   "codemirror_mode": {
    "name": "ipython",
    "version": 3
   },
   "file_extension": ".py",
   "mimetype": "text/x-python",
   "name": "python",
   "nbconvert_exporter": "python",
   "pygments_lexer": "ipython3",
   "version": "3.11.0"
  }
 },
 "nbformat": 4,
 "nbformat_minor": 2
}
